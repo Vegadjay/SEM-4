{
 "cells": [
  {
   "cell_type": "markdown",
   "metadata": {},
   "source": [
    "<a href='https://www.darshan.ac.in/'> <img src='https://www.darshan.ac.in/Content/media/DU_Logo.svg' width=\"250\" height=\"300\"/></a>\n",
    "<pre>\n",
    "<center><b><h1>Python Programming - 2301CS404</b></center>\n",
    "<center><b><h1>Name:- Jay Vegad</b></center>\n",
    "<center><b><h1>Enrollment: 23010101294</b></center>\n",
    "<center><b><h1>Lab - 6</b></center>    \n",
    "<pre>"
   ]
  },
  {
   "cell_type": "markdown",
   "metadata": {},
   "source": [
    "# Tuple"
   ]
  },
  {
   "cell_type": "markdown",
   "metadata": {},
   "source": [
    "### 01) WAP to find sum of tuple elements."
   ]
  },
  {
   "cell_type": "code",
   "execution_count": 2,
   "metadata": {},
   "outputs": [
    {
     "name": "stdout",
     "output_type": "stream",
     "text": [
      "21\n"
     ]
    }
   ],
   "source": [
    "t = (1,2,3,4,5,6,23,1,)\n",
    "print(sum(t))"
   ]
  },
  {
   "cell_type": "markdown",
   "metadata": {},
   "source": [
    "### 02) WAP to find Maximum and Minimum K elements in a given tuple."
   ]
  },
  {
   "cell_type": "code",
   "execution_count": 1,
   "metadata": {},
   "outputs": [
    {
     "name": "stdout",
     "output_type": "stream",
     "text": [
      "1\n",
      "2\n",
      "2\n",
      "1\n"
     ]
    }
   ],
   "source": [
    "tup = (1,6,3,2,9,6)\n",
    "k = 2\n",
    "t1 = list(tup)\n",
    "t1.sort()\n",
    "\n",
    "for i in range(k):\n",
    "    print(t1[i])\n",
    "    print(t1[-i+1])"
   ]
  },
  {
   "cell_type": "markdown",
   "metadata": {},
   "source": [
    "### 03) WAP to find tuples which have all elements divisible by K from a list of tuples."
   ]
  },
  {
   "cell_type": "code",
   "execution_count": 3,
   "metadata": {},
   "outputs": [
    {
     "name": "stdout",
     "output_type": "stream",
     "text": [
      "(2, 4, 6, 8)\n"
     ]
    }
   ],
   "source": [
    "l1 = [(1,2,3,4),(5,6,7,8),(2,4,6,8),(1,2,5,7),(5,10)]\n",
    "k = 2\n",
    "count = 0\n",
    "\n",
    "for i in l1:\n",
    "    for j in i:\n",
    "        if j % k != 0:\n",
    "            count += 1\n",
    "            \n",
    "    if count == 0:\n",
    "        print(i)\n",
    "    count = 0"
   ]
  },
  {
   "cell_type": "markdown",
   "metadata": {},
   "source": [
    "### 04) WAP to create a list of tuples from given list having number and its cube in each tuple."
   ]
  },
  {
   "cell_type": "code",
   "execution_count": 4,
   "metadata": {},
   "outputs": [
    {
     "data": {
      "text/plain": [
       "[(1, 1), (2, 8), (3, 27), (4, 64), (5, 125), (6, 216)]"
      ]
     },
     "execution_count": 4,
     "metadata": {},
     "output_type": "execute_result"
    }
   ],
   "source": [
    "l1 = [1,2,3,4,5,6]\n",
    "\n",
    "ans = [(i,i**3) for i in l1]\n",
    "ans"
   ]
  },
  {
   "cell_type": "markdown",
   "metadata": {},
   "source": [
    "### 05) WAP to find tuples with all positive elements from the given list of tuples."
   ]
  },
  {
   "cell_type": "code",
   "execution_count": 6,
   "metadata": {},
   "outputs": [
    {
     "name": "stdout",
     "output_type": "stream",
     "text": [
      "(1, 2, 3, 4)\n",
      "(2, 4, 6, 8)\n"
     ]
    }
   ],
   "source": [
    "l1 = [(1,2,3,4),(5,-6,7,8),(2,4,6,8),(1,-2,5,7),(5,-10)]\n",
    "count = 0\n",
    "\n",
    "for i in l1:\n",
    "    if all(j>0 for j in i):\n",
    "        print(i)"
   ]
  },
  {
   "cell_type": "markdown",
   "metadata": {},
   "source": [
    "### 06) WAP to add tuple to list and vice – versa."
   ]
  },
  {
   "cell_type": "code",
   "execution_count": 20,
   "metadata": {},
   "outputs": [
    {
     "data": {
      "text/plain": [
       "(1, 2, 4, 6, 8, 4, [5, 6, 7])"
      ]
     },
     "execution_count": 20,
     "metadata": {},
     "output_type": "execute_result"
    }
   ],
   "source": [
    "tuple_example = (1, 2, 3)\n",
    "list_example = [5, 6, 7]\n",
    "\n",
    "original_list = [123, True, \"Ramji Premji\", ['a', 's', 'd', 'f']]\n",
    "original_list.append(tuple_example)\n",
    "\n",
    "original_tuple = (1, 2, 4, 6, 8, 4)\n",
    "\n",
    "original_tuple = list(original_tuple)\n",
    "original_tuple.append(list_example)\n",
    "original_tuple = tuple(original_tuple)\n",
    "original_tuple"
   ]
  },
  {
   "cell_type": "markdown",
   "metadata": {},
   "source": [
    "### 07) WAP to remove tuples of length K."
   ]
  },
  {
   "cell_type": "code",
   "execution_count": 7,
   "metadata": {},
   "outputs": [
    {
     "name": "stdout",
     "output_type": "stream",
     "text": [
      "[(5, -6, 7, 8, 9), (5, -10)]\n"
     ]
    }
   ],
   "source": [
    "l1 = [(1,2,3,6),(1,2,5,7),(5,-6,7,8,9),(2,4,6,8),(5,-10),(1,1,1,1),(2,2,2,2)]\n",
    "l2 = l1.copy()\n",
    "k = 4\n",
    "\n",
    "for i in l2:\n",
    "    if len(i) == k:\n",
    "        l1.remove(i)\n",
    "print(l1)"
   ]
  },
  {
   "cell_type": "markdown",
   "metadata": {},
   "source": [
    "### 08) WAP to remove duplicates from tuple."
   ]
  },
  {
   "cell_type": "code",
   "execution_count": 8,
   "metadata": {},
   "outputs": [
    {
     "data": {
      "text/plain": [
       "(1, 2, 3, 4, 6, 8, 9)"
      ]
     },
     "execution_count": 8,
     "metadata": {},
     "output_type": "execute_result"
    }
   ],
   "source": [
    "tup = (1,1,2,3,4,3,6,8,9,9)\n",
    "tup = set(tup)\n",
    "tup = tuple(tup)\n",
    "tup"
   ]
  },
  {
   "cell_type": "markdown",
   "metadata": {},
   "source": [
    "### 09) WAP to multiply adjacent elements of a tuple and print that resultant tuple."
   ]
  },
  {
   "cell_type": "code",
   "execution_count": 58,
   "metadata": {},
   "outputs": [
    {
     "data": {
      "text/plain": [
       "[2, 6, 12, 20]"
      ]
     },
     "execution_count": 58,
     "metadata": {},
     "output_type": "execute_result"
    }
   ],
   "source": [
    "tup1 = (1,2,3,4,5)\n",
    "tup1 = list(tup1)\n",
    "\n",
    "ans = [(i*(i+1)) for i in range (1,len(tup1))]\n",
    "ans"
   ]
  },
  {
   "cell_type": "markdown",
   "metadata": {},
   "source": [
    "### 10) WAP to test if the given tuple is distinct or not."
   ]
  },
  {
   "cell_type": "code",
   "execution_count": 9,
   "metadata": {},
   "outputs": [
    {
     "name": "stdout",
     "output_type": "stream",
     "text": [
      "No dups\n"
     ]
    }
   ],
   "source": [
    "l1 = [(1,2,3,6),(1,2,5,7),(5,-6,7,8,9),(1,2,3,6),(5,-10),(1,1,1,1),(2,2,2,2)]\n",
    "\n",
    "tup = (1,2,3,4,5)\n",
    "t1 = list(tup)\n",
    "t2 = set(tup)\n",
    "\n",
    "if len(t1) == len(t2):\n",
    "    print(\"No dups\")\n",
    "else:\n",
    "    print(\"has dups\")\n"
   ]
  },
  {
   "cell_type": "code",
   "execution_count": 10,
   "metadata": {},
   "outputs": [
    {
     "name": "stdout",
     "output_type": "stream",
     "text": [
      "(1, 2, 3, 6)\n"
     ]
    }
   ],
   "source": [
    "l1 = [(1,2,3,6),(1,2,5,7),(5,-6,7,8,9),(1,2,3,6),(5,-10),(1,1,1,1),(2,2,2,2)]\n",
    "\n",
    "for i in range(len(l1)):\n",
    "    for j in l1[i+1:]:\n",
    "        if l1[i] == j:\n",
    "            print(l1[i])"
   ]
  }
 ],
 "metadata": {
  "kernelspec": {
   "display_name": "Python 3 (ipykernel)",
   "language": "python",
   "name": "python3"
  },
  "language_info": {
   "codemirror_mode": {
    "name": "ipython",
    "version": 3
   },
   "file_extension": ".py",
   "mimetype": "text/x-python",
   "name": "python",
   "nbconvert_exporter": "python",
   "pygments_lexer": "ipython3",
   "version": "3.10.9"
  }
 },
 "nbformat": 4,
 "nbformat_minor": 4
}
