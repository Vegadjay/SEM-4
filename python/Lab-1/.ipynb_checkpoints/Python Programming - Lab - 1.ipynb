{
 "cells": [
  {
   "cell_type": "markdown",
   "metadata": {},
   "source": [
    "<a href='https://www.darshan.ac.in/'> <img src='https://www.darshan.ac.in/Content/media/DU_Logo.svg' width=\"250\" height=\"10\"/></a>\n",
    "<pre>\n",
    "<center><b><h1>Python Programming - 2301CS404</b></center>\n",
    "<center><b><h1>Lab - 1</b></center>\n",
    "<pre>"
   ]
  },
  {
   "cell_type": "markdown",
   "metadata": {},
   "source": [
    "### 01) WAP to print “Hello World”"
   ]
  },
  {
   "cell_type": "code",
   "execution_count": 1,
   "metadata": {},
   "outputs": [
    {
     "name": "stdout",
     "output_type": "stream",
     "text": [
      "Hello World\n"
     ]
    }
   ],
   "source": [
    "print(\"Hello World\")"
   ]
  },
  {
   "cell_type": "markdown",
   "metadata": {},
   "source": [
    "### 02) WAP to print addition of two numbers with and without using input()."
   ]
  },
  {
   "cell_type": "code",
   "execution_count": 2,
   "metadata": {},
   "outputs": [
    {
     "name": "stdout",
     "output_type": "stream",
     "text": [
      "15\n"
     ]
    }
   ],
   "source": [
    "a = 5;\n",
    "b = 10;\n",
    "print(a + b)"
   ]
  },
  {
   "cell_type": "markdown",
   "metadata": {},
   "source": [
    "### 03) WAP to check the type of the variable."
   ]
  },
  {
   "cell_type": "code",
   "execution_count": 3,
   "metadata": {},
   "outputs": [
    {
     "data": {
      "text/plain": [
       "str"
      ]
     },
     "execution_count": 3,
     "metadata": {},
     "output_type": "execute_result"
    }
   ],
   "source": [
    "a = 'Darshan'\n",
    "type(a)"
   ]
  },
  {
   "cell_type": "markdown",
   "metadata": {},
   "source": [
    "### 04) WAP to calculate simple interest."
   ]
  },
  {
   "cell_type": "code",
   "execution_count": 4,
   "metadata": {},
   "outputs": [
    {
     "name": "stdout",
     "output_type": "stream",
     "text": [
      "Enter principle value: 5000\n",
      "Enter rate of interest: 9\n",
      "Enter Time interval: 2\n",
      "900.0\n"
     ]
    }
   ],
   "source": [
    "P = int(input(\"Enter principle value: \"))\n",
    "r = int(input(\"Enter rate of interest: \"))\n",
    "t = int(input(\"Enter Time interval: \"))\n",
    "A = (P*r*t)/100\n",
    "print(A)"
   ]
  },
  {
   "cell_type": "markdown",
   "metadata": {},
   "source": [
    "### 05) WAP to calculate area and perimeter of a circle."
   ]
  },
  {
   "cell_type": "code",
   "execution_count": 8,
   "metadata": {},
   "outputs": [
    {
     "name": "stdout",
     "output_type": "stream",
     "text": [
      "Enter radius : 5\n",
      "parameter:  31.41592653589793\n"
     ]
    }
   ],
   "source": [
    "import math\n",
    "\n",
    "r = int(input(\"Enter radius : \"))\n",
    "p = 2* math.pi *r\n",
    "\n",
    "print(\"parameter: \",p)"
   ]
  },
  {
   "cell_type": "markdown",
   "metadata": {},
   "source": [
    "### 06) WAP to calculate area of a triangle."
   ]
  },
  {
   "cell_type": "code",
   "execution_count": 9,
   "metadata": {},
   "outputs": [
    {
     "name": "stdout",
     "output_type": "stream",
     "text": [
      "Enter base : 3\n",
      "Enter height : 4\n",
      "area :  6.0\n"
     ]
    }
   ],
   "source": [
    "b = int(input(\"Enter base : \"))\n",
    "h = int(input(\"Enter height : \"))\n",
    "a = (b*h)/2\n",
    "print(\"area : \",a)\n"
   ]
  },
  {
   "cell_type": "markdown",
   "metadata": {},
   "source": [
    "### 07) WAP to compute quotient and remainder."
   ]
  },
  {
   "cell_type": "code",
   "execution_count": 14,
   "metadata": {},
   "outputs": [
    {
     "name": "stdout",
     "output_type": "stream",
     "text": [
      "Enter no dividend : 5\n",
      "Enter no divisor : 4\n",
      "quotient:  1\n",
      "remainder:  1\n"
     ]
    }
   ],
   "source": [
    "import math\n",
    "dividend = int(input(\"Enter no dividend : \"))\n",
    "divisor = int(input(\"Enter no divisor : \"))\n",
    "\n",
    "print(\"quotient: \",(dividend//divisor))\n",
    "print(\"remainder: \",(dividend%divisor))"
   ]
  },
  {
   "cell_type": "markdown",
   "metadata": {},
   "source": [
    "### 08) WAP to convert degree into Fahrenheit and vice versa."
   ]
  },
  {
   "cell_type": "code",
   "execution_count": 16,
   "metadata": {},
   "outputs": [
    {
     "name": "stdout",
     "output_type": "stream",
     "text": [
      "Enter temp in celsius : 0\n",
      "Temp: 32.0*F\n"
     ]
    }
   ],
   "source": [
    "C = float(input(\"Enter temp in celsius : \"))\n",
    "F = (C * 9/5) + 32\n",
    "print(f\"Temp: {F}*F\")"
   ]
  },
  {
   "cell_type": "code",
   "execution_count": 18,
   "metadata": {},
   "outputs": [
    {
     "name": "stdout",
     "output_type": "stream",
     "text": [
      "Enter temp in fahrenheit : 32\n",
      "Temp: 0.0*C\n"
     ]
    }
   ],
   "source": [
    "F = float(input(\"Enter temp in fahrenheit : \"))\n",
    "C = (F - 32) * 5/9\n",
    "print(f\"Temp: {C}*C\")"
   ]
  },
  {
   "cell_type": "markdown",
   "metadata": {},
   "source": [
    "### 09) WAP to find the distance between two points in 2-D space."
   ]
  },
  {
   "cell_type": "code",
   "execution_count": 3,
   "metadata": {},
   "outputs": [
    {
     "name": "stdout",
     "output_type": "stream",
     "text": [
      "Enter x1 : 0\n",
      "Enter y1 : 0\n",
      "Enter x2 : 2\n",
      "Enter y2 : 2\n",
      "2.0\n"
     ]
    }
   ],
   "source": [
    "import math \n",
    "x1 = int(input(\"Enter x1 : \"))\n",
    "y1 = int(input(\"Enter y1 : \"))\n",
    "x2 = int(input(\"Enter x2 : \"))\n",
    "y2 = int(input(\"Enter y2 : \"))\n",
    "d=math.sqrt((x2 - x1)^2 + (y2 - y1)^2)\n",
    "print(d)"
   ]
  },
  {
   "cell_type": "markdown",
   "metadata": {},
   "source": [
    "### 10) WAP to print sum of n natural numbers."
   ]
  },
  {
   "cell_type": "code",
   "execution_count": 21,
   "metadata": {},
   "outputs": [
    {
     "name": "stdout",
     "output_type": "stream",
     "text": [
      "Enter number : 5\n",
      "10\n"
     ]
    }
   ],
   "source": [
    "C = int(input(\"Enter number : \"))\n",
    "sum = 0;\n",
    "i = 1\n",
    "for i in range(C) :\n",
    "    sum = sum + i\n",
    "print(sum)"
   ]
  },
  {
   "cell_type": "markdown",
   "metadata": {},
   "source": [
    "### 11) WAP to print sum of square of n natural numbers."
   ]
  },
  {
   "cell_type": "code",
   "execution_count": 23,
   "metadata": {},
   "outputs": [
    {
     "name": "stdout",
     "output_type": "stream",
     "text": [
      "Enter number : 5\n",
      "30\n"
     ]
    }
   ],
   "source": [
    "C = int(input(\"Enter number : \"))\n",
    "sum = 0;\n",
    "i = 1\n",
    "for i in range(C) :\n",
    "    sum = sum + i*i\n",
    "print(sum)"
   ]
  },
  {
   "cell_type": "markdown",
   "metadata": {},
   "source": [
    "### 12) WAP to concate the first and last name of the student."
   ]
  },
  {
   "cell_type": "code",
   "execution_count": 24,
   "metadata": {},
   "outputs": [
    {
     "name": "stdout",
     "output_type": "stream",
     "text": [
      "First Last\n"
     ]
    }
   ],
   "source": [
    "firstName = 'First'\n",
    "lastName = 'Last'\n",
    "print(firstName+ \" \"+lastName)"
   ]
  },
  {
   "cell_type": "markdown",
   "metadata": {},
   "source": [
    "### 13) WAP to swap two numbers."
   ]
  },
  {
   "cell_type": "code",
   "execution_count": 25,
   "metadata": {},
   "outputs": [
    {
     "name": "stdout",
     "output_type": "stream",
     "text": [
      "Enter 1st number : 1\n",
      "Enter 2nd number : 2\n",
      "2\n",
      "1\n"
     ]
    }
   ],
   "source": [
    "a = int(input(\"Enter 1st number : \"))\n",
    "b = int(input(\"Enter 2nd number : \"))\n",
    "temp = a\n",
    "a=b\n",
    "b=temp\n",
    "print(a)\n",
    "print(b)"
   ]
  },
  {
   "cell_type": "markdown",
   "metadata": {},
   "source": [
    "### 14) WAP to get the distance from user into kilometer, and convert it into meter, feet, inches and centimeter."
   ]
  },
  {
   "cell_type": "code",
   "execution_count": 26,
   "metadata": {},
   "outputs": [
    {
     "name": "stdout",
     "output_type": "stream",
     "text": [
      "distance in km : 5\n",
      "500.0 m\n",
      "16404.2 ft\n",
      "196850.5 inches\n",
      "5000.0 cm\n"
     ]
    }
   ],
   "source": [
    "a = float(input(\"distance in km : \"))\n",
    "print(f'{a*100} m')\n",
    "print(f'{a*3280.84} ft')\n",
    "print(f'{a*39370.1} inches')\n",
    "print(f'{a*1000} cm')"
   ]
  },
  {
   "cell_type": "markdown",
   "metadata": {},
   "source": [
    "### 15) WAP to get day, month and year from the user and print the date in the given format: 23-11-2024."
   ]
  },
  {
   "cell_type": "code",
   "execution_count": 27,
   "metadata": {},
   "outputs": [
    {
     "name": "stdout",
     "output_type": "stream",
     "text": [
      "enter date : 28\n",
      "enter month : 12\n",
      "enter year: 2005\n",
      "28-12-2005\n"
     ]
    }
   ],
   "source": [
    "d = int(input(\"enter date : \"))\n",
    "m = int(input(\"enter month : \"))\n",
    "y = int(input(\"enter year: \"))\n",
    "print(f'{d}-{m}-{y}')"
   ]
  }
 ],
 "metadata": {
  "kernelspec": {
   "display_name": "Python 3 (ipykernel)",
   "language": "python",
   "name": "python3"
  },
  "language_info": {
   "codemirror_mode": {
    "name": "ipython",
    "version": 3
   },
   "file_extension": ".py",
   "mimetype": "text/x-python",
   "name": "python",
   "nbconvert_exporter": "python",
   "pygments_lexer": "ipython3",
   "version": "3.10.9"
  },
  "vscode": {
   "interpreter": {
    "hash": "31f2aee4e71d21fbe5cf8b01ff0e069b9275f58929596ceb00d14d90e3e16cd6"
   }
  }
 },
 "nbformat": 4,
 "nbformat_minor": 4
}
