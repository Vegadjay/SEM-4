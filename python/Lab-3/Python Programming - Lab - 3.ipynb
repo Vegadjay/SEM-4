{
 "cells": [
  {
   "cell_type": "markdown",
   "metadata": {},
   "source": [
    "\n",
    "<a href='https://www.darshan.ac.in/'> <img src='https://www.darshan.ac.in/Content/media/DU_Logo.svg' width=\"250\" height=\"300\"/></a>\n",
    "<pre>\n",
    "<center><b><h1>Python Programming - 2301CS404</b></center>\n",
    "<center><b><h1>23010101294 - Jay Vegad</b></center>\n",
    "<center><b><h1>Lab - 3</b></center>    \n",
    "<pre>"
   ]
  },
  {
   "cell_type": "markdown",
   "metadata": {},
   "source": [
    "# for and while loop"
   ]
  },
  {
   "cell_type": "markdown",
   "metadata": {},
   "source": [
    "### 01) WAP to print 1 to 10."
   ]
  },
  {
   "cell_type": "code",
   "execution_count": null,
   "metadata": {},
   "outputs": [],
   "source": [
    "i = 0;\n",
    "while i != 10:\n",
    "    print(i)\n",
    "    i = i + 1"
   ]
  },
  {
   "cell_type": "markdown",
   "metadata": {},
   "source": [
    "### 02) WAP to print 1 to n."
   ]
  },
  {
   "cell_type": "code",
   "execution_count": null,
   "metadata": {},
   "outputs": [],
   "source": [
    "a = int(input(\"Enter number... \"))\n",
    "i = 1\n",
    "while(i != a):\n",
    "    print(i)\n",
    "    i+=1"
   ]
  },
  {
   "cell_type": "markdown",
   "metadata": {},
   "source": [
    "### 03) WAP to print odd numbers between 1 to n."
   ]
  },
  {
   "cell_type": "code",
   "execution_count": null,
   "metadata": {},
   "outputs": [],
   "source": [
    "a = int(input(\"Enter number... \"))\n",
    "for i in range(1,a + 1,2):\n",
    "    print(i)"
   ]
  },
  {
   "cell_type": "code",
   "execution_count": null,
   "metadata": {},
   "outputs": [],
   "source": [
    "### 04) WAP to print numbers between two given numbers which is divisible by 2 but not divisible by 3."
   ]
  },
  {
   "cell_type": "code",
   "execution_count": 1,
   "metadata": {},
   "outputs": [
    {
     "name": "stdout",
     "output_type": "stream",
     "text": [
      "Enter First Number... 1\n",
      "Enter Second Number... 100\n",
      "2\n",
      "4\n",
      "8\n",
      "10\n",
      "14\n",
      "16\n",
      "20\n",
      "22\n",
      "26\n",
      "28\n",
      "32\n",
      "34\n",
      "38\n",
      "40\n",
      "44\n",
      "46\n",
      "50\n",
      "52\n",
      "56\n",
      "58\n",
      "62\n",
      "64\n",
      "68\n",
      "70\n",
      "74\n",
      "76\n",
      "80\n",
      "82\n",
      "86\n",
      "88\n",
      "92\n",
      "94\n",
      "98\n",
      "100\n"
     ]
    }
   ],
   "source": [
    "number1 = int(input(\"Enter First Number... \"))\n",
    "number2 = int(input(\"Enter Second Number... \"))\n",
    "for i in range(number1,number2 + 1):\n",
    "    if(i % 2 == 0 and i % 3 != 0):\n",
    "        print(i)"
   ]
  },
  {
   "cell_type": "code",
   "execution_count": null,
   "metadata": {},
   "outputs": [],
   "source": [
    "### 05) WAP to print sum of 1 to n numbers."
   ]
  },
  {
   "cell_type": "code",
   "execution_count": 2,
   "metadata": {},
   "outputs": [
    {
     "name": "stdout",
     "output_type": "stream",
     "text": [
      "Enter Number... 10\n",
      "55\n"
     ]
    }
   ],
   "source": [
    "number = int(input(\"Enter Number... \"))\n",
    "sum = 0\n",
    "for i in range(0,number + 1):\n",
    "    sum += i\n",
    "print(sum)"
   ]
  },
  {
   "cell_type": "markdown",
   "metadata": {},
   "source": [
    "### 06) WAP to print sum of series 1 + 4 + 9 + 16 + 25 + 36 + ...n."
   ]
  },
  {
   "cell_type": "code",
   "execution_count": 7,
   "metadata": {},
   "outputs": [
    {
     "name": "stdout",
     "output_type": "stream",
     "text": [
      "Enter Number.. 3\n",
      "14\n"
     ]
    }
   ],
   "source": [
    "number = int(input(\"Enter Number.. \"))\n",
    "sum = 0\n",
    "for i in range(0,number+1):\n",
    "    sum += i*i\n",
    "print(sum)"
   ]
  },
  {
   "cell_type": "markdown",
   "metadata": {},
   "source": [
    "# 07) WAP to print sum of series 1 – 2 + 3 – 4 + 5 – 6 + 7 ... n."
   ]
  },
  {
   "cell_type": "code",
   "execution_count": 9,
   "metadata": {},
   "outputs": [
    {
     "name": "stdout",
     "output_type": "stream",
     "text": [
      "Enter Number.. 10\n",
      "-5\n"
     ]
    }
   ],
   "source": [
    "number = int(input(\"Enter Number.. \"))\n",
    "sum = 0\n",
    "for i in range(0,number+1):\n",
    "    if(i%2==0): sum-=i\n",
    "    else: sum+=i\n",
    "print(sum)"
   ]
  },
  {
   "cell_type": "markdown",
   "metadata": {},
   "source": [
    "### 08) WAP to print multiplication table of given number."
   ]
  },
  {
   "cell_type": "code",
   "execution_count": 11,
   "metadata": {},
   "outputs": [
    {
     "name": "stdout",
     "output_type": "stream",
     "text": [
      "Enter Number:... 5\n",
      "5 * 1 = 5\n",
      "5 * 2 = 10\n",
      "5 * 3 = 15\n",
      "5 * 4 = 20\n",
      "5 * 5 = 25\n",
      "5 * 6 = 30\n",
      "5 * 7 = 35\n",
      "5 * 8 = 40\n",
      "5 * 9 = 45\n",
      "5 * 10 = 50\n"
     ]
    }
   ],
   "source": [
    "number = int(input(\"Enter Number:... \"))\n",
    "for i in range(1,11):\n",
    "    print(f\"{number} * {i} = {number * i}\")"
   ]
  },
  {
   "cell_type": "markdown",
   "metadata": {},
   "source": [
    "### 09) WAP to find factorial of the given number."
   ]
  },
  {
   "cell_type": "code",
   "execution_count": 2,
   "metadata": {},
   "outputs": [
    {
     "name": "stdout",
     "output_type": "stream",
     "text": [
      "Enter Number:... 4\n",
      "24\n"
     ]
    }
   ],
   "source": [
    "number = int(input(\"Enter Number:... \"))\n",
    "fac = 1\n",
    "for i in range(1,number+1):\n",
    "    fac*=i\n",
    "print(fac)"
   ]
  },
  {
   "cell_type": "markdown",
   "metadata": {},
   "source": [
    "### 10) WAP to find factors of the given number."
   ]
  },
  {
   "cell_type": "code",
   "execution_count": 13,
   "metadata": {},
   "outputs": [
    {
     "name": "stdout",
     "output_type": "stream",
     "text": [
      "Enter Number:... 10\n",
      "1,2,5,10\n"
     ]
    }
   ],
   "source": [
    "number = int(input(\"Enter Number:... \"))\n",
    "for i in range(1,number):\n",
    "    if(number%i==0): print(i, end=',')    \n",
    "else: print(i + 1)"
   ]
  },
  {
   "cell_type": "markdown",
   "metadata": {},
   "source": [
    "### 11) WAP to find whether the given number is prime or not."
   ]
  },
  {
   "cell_type": "code",
   "execution_count": 15,
   "metadata": {},
   "outputs": [
    {
     "name": "stdout",
     "output_type": "stream",
     "text": [
      "Enter Number:... 10\n",
      "10 is not a prime number\n"
     ]
    }
   ],
   "source": [
    "num = int(input(\"Enter Number:... \"))\n",
    "if num > 1:\n",
    "    for i in range(2, (num//2)+1):\n",
    "        if (num % i) == 0:\n",
    "            print(num, \"is not a prime number\")\n",
    "            break\n",
    "    else:\n",
    "        print(num, \"is a prime number\")\n",
    "else:\n",
    "    print(num, \"is not a prime number\")"
   ]
  },
  {
   "cell_type": "markdown",
   "metadata": {},
   "source": [
    "### 12) WAP to print sum of digits of given number."
   ]
  },
  {
   "cell_type": "code",
   "execution_count": 21,
   "metadata": {},
   "outputs": [
    {
     "name": "stdout",
     "output_type": "stream",
     "text": [
      "Enter Number:...  19\n",
      "10\n"
     ]
    }
   ],
   "source": [
    "number = (input(\"Enter Number:...  \"))\n",
    "sum = 0;\n",
    "for i in number:\n",
    "    sum += int(i)\n",
    "print(sum)"
   ]
  },
  {
   "cell_type": "markdown",
   "metadata": {},
   "source": [
    "\n",
    "### 13) WAP to check whether the given number is palindrome or not"
   ]
  },
  {
   "cell_type": "code",
   "execution_count": 25,
   "metadata": {},
   "outputs": [
    {
     "name": "stdout",
     "output_type": "stream",
     "text": [
      "Enter String... helpo\n",
      "No\n"
     ]
    }
   ],
   "source": [
    "\n",
    "s = input(\"Enter String... \")\n",
    "\n",
    "def isPalindrome(s):\n",
    "    return s == s[::-1]\n",
    "\n",
    "ans = isPalindrome(s)\n",
    "\n",
    "if ans:\n",
    "    print(\"Yes\")\n",
    "else:\n",
    "    print(\"No\")"
   ]
  },
  {
   "cell_type": "markdown",
   "metadata": {},
   "source": [
    "### 14) WAP to print GCD of given two numbers."
   ]
  },
  {
   "cell_type": "code",
   "execution_count": 26,
   "metadata": {},
   "outputs": [
    {
     "name": "stdout",
     "output_type": "stream",
     "text": [
      "Enter Number:..10\n",
      "Enter Second Number:...30\n",
      "10\n"
     ]
    }
   ],
   "source": [
    "import math\n",
    "\n",
    "number1 = int(input(\"Enter Number:..\"))\n",
    "number2 = int(input(\"Enter Second Number:...\"))\n",
    "print (math.gcd(number1,number2))"
   ]
  }
 ],
 "metadata": {
  "kernelspec": {
   "display_name": "Python 3 (ipykernel)",
   "language": "python",
   "name": "python3"
  },
  "language_info": {
   "codemirror_mode": {
    "name": "ipython",
    "version": 3
   },
   "file_extension": ".py",
   "mimetype": "text/x-python",
   "name": "python",
   "nbconvert_exporter": "python",
   "pygments_lexer": "ipython3",
   "version": "3.10.9"
  }
 },
 "nbformat": 4,
 "nbformat_minor": 4
}
