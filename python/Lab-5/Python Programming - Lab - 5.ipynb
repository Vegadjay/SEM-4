{
 "cells": [
  {
   "cell_type": "markdown",
   "metadata": {},
   "source": [
    "\n",
    "<a href='https://www.darshan.ac.in/'> <img src='https://www.darshan.ac.in/Content/media/DU_Logo.svg' width=\"250\" height=\"300\"/></a>\n",
    "<pre>\n",
    "<center><b><h1>Python Programming - 2301CS404</b></center>\n",
    "<center><b><h1>23010101294 - Jay Vegad</b></center>\n",
    "<center><b><h1>Lab - 5</b></center>    \n",
    "<pre>"
   ]
  },
  {
   "cell_type": "markdown",
   "metadata": {},
   "source": [
    "# List"
   ]
  },
  {
   "cell_type": "markdown",
   "metadata": {},
   "source": [
    "### 01) WAP to find sum of all the elements in a List."
   ]
  },
  {
   "cell_type": "code",
   "execution_count": 11,
   "metadata": {},
   "outputs": [
    {
     "name": "stdout",
     "output_type": "stream",
     "text": [
      "100\n"
     ]
    }
   ],
   "source": [
    "sum = 0\n",
    "l1 = [10,20,30,40]\n",
    "for i in range(0,len(l1)):\n",
    "    sum = sum + l1[i]\n",
    "print(sum)"
   ]
  },
  {
   "cell_type": "markdown",
   "metadata": {},
   "source": [
    "### 02) WAP to find largest element in a List."
   ]
  },
  {
   "cell_type": "code",
   "execution_count": 18,
   "metadata": {},
   "outputs": [
    {
     "name": "stdout",
     "output_type": "stream",
     "text": [
      "420\n"
     ]
    }
   ],
   "source": [
    "l1 = [10,20,30,40,90,420,102,402]\n",
    "large = l1[0]\n",
    "for i in l1:\n",
    "    if i > large:\n",
    "        large = i\n",
    "print(large)"
   ]
  },
  {
   "cell_type": "markdown",
   "metadata": {},
   "source": [
    "### 03) WAP to find the length of a List."
   ]
  },
  {
   "cell_type": "code",
   "execution_count": 19,
   "metadata": {},
   "outputs": [
    {
     "name": "stdout",
     "output_type": "stream",
     "text": [
      "7\n"
     ]
    }
   ],
   "source": [
    "l1 = [10,20,301,30,203,21012,302]\n",
    "print(len(l1))"
   ]
  },
  {
   "cell_type": "markdown",
   "metadata": {},
   "source": [
    "### 04) WAP to interchange first and last elements in a list."
   ]
  },
  {
   "cell_type": "code",
   "execution_count": 26,
   "metadata": {},
   "outputs": [
    {
     "name": "stdout",
     "output_type": "stream",
     "text": [
      "[30010, 20102, 102, 3000102, 1102]\n"
     ]
    }
   ],
   "source": [
    "l1 = [1102,20102,102,3000102,30010]\n",
    "first = l1[0]\n",
    "last = l1[len(l1) - 1]\n",
    "l1[0] = last\n",
    "l1[len(l1) - 1] = first\n",
    "print(l1)"
   ]
  },
  {
   "cell_type": "markdown",
   "metadata": {},
   "source": [
    "### 05) WAP to split the List into two parts and append the first part to the end."
   ]
  },
  {
   "cell_type": "code",
   "execution_count": 24,
   "metadata": {},
   "outputs": [
    {
     "name": "stdout",
     "output_type": "stream",
     "text": [
      "[201, 201, 201, 203, 30, 10, 20, 30, 20, 10]\n"
     ]
    }
   ],
   "source": [
    "l1 = [10,20,30,20,10,201,201,201,203,30]\n",
    "firstPart = []\n",
    "lastPart = []\n",
    "for i in range(0,len(l1)//2):\n",
    "    firstPart.append(l1[i])\n",
    "for i in range(len(l1)//2, len(l1)):\n",
    "    lastPart.append(l1[i])\n",
    "print(lastPart + firstPart)"
   ]
  },
  {
   "cell_type": "markdown",
   "metadata": {},
   "source": [
    "### 06) WAP to interchange the elements on two positions entered by a user."
   ]
  },
  {
   "cell_type": "code",
   "execution_count": 29,
   "metadata": {},
   "outputs": [
    {
     "name": "stdout",
     "output_type": "stream",
     "text": [
      "Enter First Position:..  0\n",
      "Enter Second Position:... 4\n",
      "[50, 20, 30, 40, 10, 60, 20]\n"
     ]
    }
   ],
   "source": [
    "l1 = [10,20,30,40,50,60,20]\n",
    "number1 = int(input(\"Enter First Position:..  \"))\n",
    "number2 = int(input(\"Enter Second Position:... \"))\n",
    "temp = l1[number1]\n",
    "l1[number1] = l1[number2]\n",
    "l1[number2] = temp\n",
    "print(l1)"
   ]
  },
  {
   "cell_type": "markdown",
   "metadata": {},
   "source": [
    "### 07) WAP to reverse the list entered by user."
   ]
  },
  {
   "cell_type": "code",
   "execution_count": 9,
   "metadata": {},
   "outputs": [
    {
     "name": "stdout",
     "output_type": "stream",
     "text": [
      "Enter numbers separated by space: 1 3 4 2 3 2 4 4 5 2\n",
      "[2, 5, 4, 4, 2, 3, 2, 4, 3, 1]\n"
     ]
    }
   ],
   "source": [
    "l1 = list(map(int, input(\"Enter numbers separated by space: \").split()))\n",
    "l1 = l1[::-1]\n",
    "print(l1)"
   ]
  },
  {
   "cell_type": "markdown",
   "metadata": {},
   "source": [
    "### 08) WAP to print even numbers in a list."
   ]
  },
  {
   "cell_type": "code",
   "execution_count": 11,
   "metadata": {},
   "outputs": [
    {
     "name": "stdout",
     "output_type": "stream",
     "text": [
      "2 4 2 2 2 2 "
     ]
    }
   ],
   "source": [
    "l1 = [1,2,3,4,2,1,2,1,2,1,2]\n",
    "for i in l1:\n",
    "    if i % 2 == 0:\n",
    "        print(i,end = \" \")"
   ]
  },
  {
   "cell_type": "markdown",
   "metadata": {},
   "source": [
    "### 09) WAP to count unique items in a list."
   ]
  },
  {
   "cell_type": "code",
   "execution_count": 35,
   "metadata": {},
   "outputs": [
    {
     "name": "stdout",
     "output_type": "stream",
     "text": [
      "[1, 2, 3, 2, 1, 2, 4, 7]\n",
      "5\n"
     ]
    }
   ],
   "source": [
    "l1 = [1,2,3,2,1,2,4,7]\n",
    "l2 = []\n",
    "count = 0\n",
    "print(l1)\n",
    "for i in l1:\n",
    "    if i not in l2 : l2.append(i)\n",
    "print(len(l2))"
   ]
  },
  {
   "cell_type": "markdown",
   "metadata": {},
   "source": [
    "### 10) WAP to copy a list."
   ]
  },
  {
   "cell_type": "code",
   "execution_count": 41,
   "metadata": {},
   "outputs": [
    {
     "name": "stdout",
     "output_type": "stream",
     "text": [
      "[10, 20, 40, 20]\n"
     ]
    }
   ],
   "source": [
    "l1 = [10,20,40,20]\n",
    "l2 = []\n",
    "l2 = l1.copy()\n",
    "print(l2)"
   ]
  },
  {
   "cell_type": "markdown",
   "metadata": {},
   "source": [
    "### 11) WAP to print all odd numbers in a given range."
   ]
  },
  {
   "cell_type": "code",
   "execution_count": 2,
   "metadata": {},
   "outputs": [
    {
     "name": "stdout",
     "output_type": "stream",
     "text": [
      "Enter First Number:... 3\n",
      "Enter Second Number:... 6\n",
      "201\n",
      "201\n"
     ]
    }
   ],
   "source": [
    "l1 = [10,20,30,201,201,2000304,2030,2310]\n",
    "number1 = int(input(\"Enter First Number:... \"))\n",
    "number2 = int(input(\"Enter Second Number:... \"))\n",
    "for i in range(number1,number2):\n",
    "    if l1[i] % 2 != 0:\n",
    "        print(l1[i])"
   ]
  },
  {
   "cell_type": "markdown",
   "metadata": {},
   "source": [
    "### 12) WAP to count occurrences of an element in a list."
   ]
  },
  {
   "cell_type": "code",
   "execution_count": 4,
   "metadata": {},
   "outputs": [
    {
     "name": "stdout",
     "output_type": "stream",
     "text": [
      "Enter Number That You Find In List:.. 2\n",
      "2\n"
     ]
    }
   ],
   "source": [
    "l1 = [10,20,30,2,1,2,112]\n",
    "number = int(input(\"Enter Number That You Find In List:.. \"))\n",
    "count = 0\n",
    "for i in range(0,len(l1)):\n",
    "    if l1[i] == number: count += 1\n",
    "print(count)"
   ]
  },
  {
   "cell_type": "markdown",
   "metadata": {},
   "source": [
    "### 13) WAP to find second largest number in a list."
   ]
  },
  {
   "cell_type": "code",
   "execution_count": 3,
   "metadata": {},
   "outputs": [
    {
     "name": "stdout",
     "output_type": "stream",
     "text": [
      "68\n"
     ]
    }
   ],
   "source": [
    "l1 = [203,32,5,32,65,65,68,4,12,45]\n",
    "l1.sort()\n",
    "max = l1[len(l1)-1]\n",
    "secondLarge = l1[0]\n",
    "for i in l1:\n",
    "    if secondLarge < i and i != max:\n",
    "        secondLarge = i\n",
    "print(secondLarge)"
   ]
  },
  {
   "cell_type": "markdown",
   "metadata": {},
   "source": [
    "### 14) WAP to extract elements with frequency greater than K."
   ]
  },
  {
   "cell_type": "code",
   "execution_count": 7,
   "metadata": {},
   "outputs": [
    {
     "name": "stdout",
     "output_type": "stream",
     "text": [
      "Enter Number:... 2\n",
      "[20]\n"
     ]
    }
   ],
   "source": [
    "l1 = [10,20,302,10,20,101010,20]\n",
    "l1.sort()\n",
    "l2=[]\n",
    "count = 0\n",
    "number = int(input(\"Enter Number:... \"))\n",
    "for i in l1:\n",
    "    if l1.count(i)>number and i not in l2:l2.append(i)\n",
    "print(l2)"
   ]
  },
  {
   "cell_type": "markdown",
   "metadata": {},
   "source": [
    "### 15) WAP to create a list of squared numbers from 0 to 9 with and without using List Comprehension."
   ]
  },
  {
   "cell_type": "code",
   "execution_count": 11,
   "metadata": {},
   "outputs": [
    {
     "name": "stdout",
     "output_type": "stream",
     "text": [
      "[0, 1, 4, 9, 16, 25, 36, 49, 64, 81]\n"
     ]
    }
   ],
   "source": [
    "l1 = []\n",
    "for i in range(0,10):\n",
    "    l1.append(i**2)\n",
    "print(l1)"
   ]
  },
  {
   "cell_type": "markdown",
   "metadata": {},
   "source": [
    "### 16) WAP to create a new list (fruit whose name starts with 'b') from the list of fruits given by user."
   ]
  },
  {
   "cell_type": "code",
   "execution_count": 20,
   "metadata": {},
   "outputs": [
    {
     "name": "stdout",
     "output_type": "stream",
     "text": [
      "['Banana', 'Babli']\n"
     ]
    }
   ],
   "source": [
    "fruits = [\"Apple\",\"Banana\",\"Centerfruit\",\"Fruit\",\"Graps\",\"Babli\"]\n",
    "secondFruitList = []\n",
    "for i in fruits:\n",
    "    if i.startswith(\"B\"):\n",
    "        secondFruitList.append(i)\n",
    "print(secondFruitList)"
   ]
  },
  {
   "cell_type": "markdown",
   "metadata": {},
   "source": [
    "### 17) WAP to create a list of common elements from given two lists."
   ]
  },
  {
   "cell_type": "code",
   "execution_count": 23,
   "metadata": {},
   "outputs": [
    {
     "name": "stdout",
     "output_type": "stream",
     "text": [
      "[302, 3, 3, 2]\n"
     ]
    }
   ],
   "source": [
    "l1 = [10,20,302,3,12,3,2]\n",
    "l2 = [2,334,23,55,67,8,3,302]\n",
    "l3 = []\n",
    "for i in l1:\n",
    "    for j in l2:\n",
    "        if i == j:\n",
    "            l3.append(i)\n",
    "print(l3)"
   ]
  },
  {
   "cell_type": "code",
   "execution_count": null,
   "metadata": {},
   "outputs": [],
   "source": []
  }
 ],
 "metadata": {
  "kernelspec": {
   "display_name": "Python 3 (ipykernel)",
   "language": "python",
   "name": "python3"
  },
  "language_info": {
   "codemirror_mode": {
    "name": "ipython",
    "version": 3
   },
   "file_extension": ".py",
   "mimetype": "text/x-python",
   "name": "python",
   "nbconvert_exporter": "python",
   "pygments_lexer": "ipython3",
   "version": "3.10.9"
  }
 },
 "nbformat": 4,
 "nbformat_minor": 4
}
