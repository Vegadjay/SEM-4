{
 "cells": [
  {
   "cell_type": "markdown",
   "metadata": {},
   "source": [
    "<a href='https://www.darshan.ac.in/'> <img src='https://www.darshan.ac.in/Content/media/DU_Logo.svg' width=\"250\" height=\"300\"/></a>\n",
    "<pre>\n",
    "<center><b><h1>Python Programming - 2301CS404</b></center>\n",
    "<center><b><h1>23010101294 - Jay Vegad</b></center>\n",
    "<center><b><h1>Python Programming - 2301CS404</b></center>\n",
    "\n",
    "<center><b><h1>Lab - 7</b></center>    \n",
    "<pre>"
   ]
  },
  {
   "cell_type": "markdown",
   "metadata": {},
   "source": [
    "# Set & Dictionary"
   ]
  },
  {
   "cell_type": "markdown",
   "metadata": {},
   "source": [
    "### 01) WAP to iterate over a set."
   ]
  },
  {
   "cell_type": "code",
   "execution_count": 3,
   "metadata": {},
   "outputs": [
    {
     "name": "stdout",
     "output_type": "stream",
     "text": [
      "1\n",
      "2\n",
      "3\n",
      "4\n",
      "5\n",
      "34\n",
      "43\n",
      "23\n",
      "123\n"
     ]
    }
   ],
   "source": [
    "a = {1,2,3,4,5,123,34,5,43,3,2,3,5,43,2,23,2,1,2,3,4,3,2,1,2}\n",
    "\n",
    "for i in a:\n",
    "    print(i)"
   ]
  },
  {
   "cell_type": "markdown",
   "metadata": {},
   "source": [
    "### 02) WAP to convert set into list, string and tuple."
   ]
  },
  {
   "cell_type": "code",
   "execution_count": 2,
   "metadata": {},
   "outputs": [
    {
     "name": "stdout",
     "output_type": "stream",
     "text": [
      "[1, 2, 3, 4, 5, 12, 23, 123]\n",
      "123451223123\n",
      "(1, 2, 3, 4, 5, 12, 23, 123)\n"
     ]
    }
   ],
   "source": [
    "a = {1,2,3,4,5,12,3,2,12,123,3,12,3,123,123,123,1,23,123,12,3}\n",
    "\n",
    "print(list(a))\n",
    "print(\"\".join(map(str,a)))\n",
    "print(tuple(a))"
   ]
  },
  {
   "cell_type": "markdown",
   "metadata": {},
   "source": [
    "### 03) WAP to find Maximum and Minimum from a set."
   ]
  },
  {
   "cell_type": "code",
   "execution_count": 1,
   "metadata": {},
   "outputs": [
    {
     "name": "stdout",
     "output_type": "stream",
     "text": [
      "Min: 1\n",
      "Max: 63\n"
     ]
    }
   ],
   "source": [
    "b = {1,2,3,4,5,6,7,87,8,45,63,4,5,343,324}\n",
    "\n",
    "b = list(b)\n",
    "print(f'Min: {b[0]}')\n",
    "print(f'Max: {b[-1]}')"
   ]
  },
  {
   "cell_type": "markdown",
   "metadata": {},
   "source": [
    "### 04) WAP to perform union of two sets."
   ]
  },
  {
   "cell_type": "code",
   "execution_count": 4,
   "metadata": {},
   "outputs": [
    {
     "name": "stdout",
     "output_type": "stream",
     "text": [
      "{1, 2, 3, 4, 5, 6, 7, 8, 9, 10, 11, 12, 13, 16, 17, 18, 19, 20, 123}\n"
     ]
    }
   ],
   "source": [
    "a = {1,2,3,4,5,6,7,8,9,123}\n",
    "b = {10,11,12,13,4,5,16,18,17,19,20}\n",
    "c = a.union(b)\n",
    "print(c)"
   ]
  },
  {
   "cell_type": "markdown",
   "metadata": {},
   "source": [
    "### 05) WAP to check if two lists have at-least one element common."
   ]
  },
  {
   "cell_type": "code",
   "execution_count": 8,
   "metadata": {},
   "outputs": [
    {
     "name": "stdout",
     "output_type": "stream",
     "text": [
      "[4, 5]\n"
     ]
    }
   ],
   "source": [
    "a = [1,2,3,4,5,6,7,8,9,123]\n",
    "b = [10,11,12,13,4,5,16,18,17,19,20]\n",
    "c = set(a).intersection(set(b))\n",
    "print(list(c))"
   ]
  },
  {
   "cell_type": "markdown",
   "metadata": {},
   "source": [
    "### 06) WAP to remove duplicates from list."
   ]
  },
  {
   "cell_type": "code",
   "execution_count": 10,
   "metadata": {},
   "outputs": [
    {
     "name": "stdout",
     "output_type": "stream",
     "text": [
      "{3011, 102, 40, 10, 402, 20, 1022, 30}\n"
     ]
    }
   ],
   "source": [
    "a = [10,20,30,40,10,402,102,1022,3011]\n",
    "b = set(a)\n",
    "print(b)"
   ]
  },
  {
   "cell_type": "markdown",
   "metadata": {},
   "source": [
    "### 07) WAP to find unique words in the given string."
   ]
  },
  {
   "cell_type": "code",
   "execution_count": 13,
   "metadata": {},
   "outputs": [
    {
     "name": "stdout",
     "output_type": "stream",
     "text": [
      "{'ram', 'shree', 'Jay'}\n"
     ]
    }
   ],
   "source": [
    "str = \"Jay shree ram\"\n",
    "words = str.split(\" \")\n",
    "unique = set(words)\n",
    "print(unique)"
   ]
  },
  {
   "cell_type": "markdown",
   "metadata": {},
   "source": [
    "### 08) WAP to remove common elements of set A & B from set A."
   ]
  },
  {
   "cell_type": "code",
   "execution_count": 16,
   "metadata": {},
   "outputs": [
    {
     "name": "stdout",
     "output_type": "stream",
     "text": [
      "{10, 20, 30}\n"
     ]
    }
   ],
   "source": [
    "a = {10,20,20,10,20,30}\n",
    "b = {20,10,20,30,40,50}\n",
    "a.union(b)\n",
    "print(a)"
   ]
  },
  {
   "cell_type": "markdown",
   "metadata": {},
   "source": [
    "### 09) WAP to check whether two given strings are anagram or not using set."
   ]
  },
  {
   "cell_type": "code",
   "execution_count": 9,
   "metadata": {},
   "outputs": [
    {
     "name": "stdout",
     "output_type": "stream",
     "text": [
      "Not Anagram\n"
     ]
    }
   ],
   "source": [
    "str1 = \"add\"\n",
    "str2 = \"aad\"\n",
    "str1Set = set(str1)\n",
    "str2Set = set(str2)\n",
    "combineStrSet = str1Set.union(str2Set)\n",
    "orignalString = ','.join(combineStrSet)\n",
    "if str1 == orignalString:\n",
    "    print(\"Anagram\")\n",
    "else:\n",
    "    print(\"Not Anagram\")"
   ]
  },
  {
   "cell_type": "markdown",
   "metadata": {},
   "source": [
    "### 10) WAP to find common elements in three lists using set."
   ]
  },
  {
   "cell_type": "code",
   "execution_count": 19,
   "metadata": {},
   "outputs": [
    {
     "name": "stdout",
     "output_type": "stream",
     "text": [
      "{40, 10, 50, 20, 60, 30}\n"
     ]
    }
   ],
   "source": [
    "l1 = [10,20,30,40]\n",
    "l2 = [20,30,20,10,20,30]\n",
    "l3 = [50,60,30,20,10,]\n",
    "combineSet = set(l1).union(set(l2)).union(set(l3))\n",
    "print(combineSet)"
   ]
  },
  {
   "cell_type": "markdown",
   "metadata": {},
   "source": [
    "### 11) WAP to count number of vowels in given string using set."
   ]
  },
  {
   "cell_type": "code",
   "execution_count": 68,
   "metadata": {},
   "outputs": [
    {
     "name": "stdout",
     "output_type": "stream",
     "text": [
      "4\n"
     ]
    }
   ],
   "source": [
    "str1 = \"Jay shree ram\"\n",
    "count = 0\n",
    "for i in str1:\n",
    "    if i in {'a','e','i','o','u'}:\n",
    "        count += 1\n",
    "print(count)"
   ]
  },
  {
   "cell_type": "markdown",
   "metadata": {},
   "source": [
    "### 12) WAP to check if a given string is binary string or not."
   ]
  },
  {
   "cell_type": "code",
   "execution_count": 44,
   "metadata": {},
   "outputs": [
    {
     "name": "stdout",
     "output_type": "stream",
     "text": [
      "not binary string\n"
     ]
    }
   ],
   "source": [
    "str = \"abababababc\"\n",
    "stringSet = set(str)\n",
    "if len(stringSet) == 2:\n",
    "    print(\"binary string.. \")\n",
    "else:\n",
    "    print(\"not binary string\")"
   ]
  },
  {
   "cell_type": "markdown",
   "metadata": {},
   "source": [
    "### 13) WAP to sort dictionary by key or value."
   ]
  },
  {
   "cell_type": "code",
   "execution_count": 66,
   "metadata": {},
   "outputs": [
    {
     "name": "stdout",
     "output_type": "stream",
     "text": [
      "{'age': 12, 'name': 'Ramlal', 'residence': 'Darshan'}\n"
     ]
    }
   ],
   "source": [
    "dict = {\n",
    "    \"name\":\"Ramlal\",\n",
    "    \"age\":12,\n",
    "    \"residence\":\"Darshan\"\n",
    "}\n",
    "keys = list(dict.keys())\n",
    "keys.sort()\n",
    "sd = {i: dict[i] for i in keys}\n",
    "print(sd)"
   ]
  },
  {
   "cell_type": "markdown",
   "metadata": {},
   "source": [
    "### 14) WAP to find the sum of all items (values) in a dictionary given by user. (Assume: values are numeric)"
   ]
  },
  {
   "cell_type": "code",
   "execution_count": 8,
   "metadata": {},
   "outputs": [
    {
     "name": "stdout",
     "output_type": "stream",
     "text": [
      "Enter Number of records:... 2\n",
      "Enter Value:.. jay\n",
      "Enter Value:... 12\n",
      "Enter Value:.. asd\n",
      "Enter Value:... 23\n",
      "35\n"
     ]
    }
   ],
   "source": [
    "records = int(input(\"Enter Number of records:... \"))\n",
    "dictonary = {}\n",
    "sum1 = 0\n",
    "for i in range(records):\n",
    "    key = input(\"Enter Value:.. \")\n",
    "    value = input(\"Enter Value:... \")\n",
    "    dictonary[key] = value\n",
    "list1 = list(dictonary.values())\n",
    "for i in list1:\n",
    "    sum1 += int(i)\n",
    "print(sum1)"
   ]
  },
  {
   "cell_type": "markdown",
   "metadata": {},
   "source": [
    "### 15) WAP to handle missing keys in dictionaries.\n",
    "#### Example : Given, dict1 = {'a': 5, 'c': 8, 'e': 2} \n",
    "#### if you look for key = 'd', the message given should be 'Key Not Found', otherwise print the value of 'd' in dict1."
   ]
  },
  {
   "cell_type": "code",
   "execution_count": 17,
   "metadata": {},
   "outputs": [
    {
     "name": "stdout",
     "output_type": "stream",
     "text": [
      "10\n"
     ]
    }
   ],
   "source": [
    "dict1 = {'a': 5, 'c': 8, 'e': 2,'d':10}\n",
    "keys1 = dict1.keys()\n",
    "keyList = list(keys1)\n",
    "flag = True;\n",
    "for i in keyList:\n",
    "    if 'd' in i:\n",
    "        flag = False\n",
    "if flag == True:\n",
    "    print(\"Key not found\")\n",
    "else:\n",
    "    print(dict1['d'])"
   ]
  },
  {
   "cell_type": "code",
   "execution_count": null,
   "metadata": {},
   "outputs": [],
   "source": []
  }
 ],
 "metadata": {
  "kernelspec": {
   "display_name": "Python 3 (ipykernel)",
   "language": "python",
   "name": "python3"
  },
  "language_info": {
   "codemirror_mode": {
    "name": "ipython",
    "version": 3
   },
   "file_extension": ".py",
   "mimetype": "text/x-python",
   "name": "python",
   "nbconvert_exporter": "python",
   "pygments_lexer": "ipython3",
   "version": "3.10.9"
  }
 },
 "nbformat": 4,
 "nbformat_minor": 4
}
