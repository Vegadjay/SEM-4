{
 "cells": [
  {
   "cell_type": "markdown",
   "metadata": {},
   "source": [
    "\n",
    "<a href='https://www.darshan.ac.in/'> <img src='https://www.darshan.ac.in/Content/media/DU_Logo.svg' width=\"250\" height=\"300\"/></a>\n",
    "<pre>\n",
    "<center><b><h1>Python Programming - 2301CS404</b></center>\n",
    "<center><b><h1>Lab - 2</b></center>\n",
    "<center><b><h1>Name:Jay Vegad</b></center>\n",
    "<center><b><h1>Enrollment: 23010101294</b></center>\n",
    "\n",
    "<pre>"
   ]
  },
  {
   "cell_type": "markdown",
   "metadata": {},
   "source": [
    "# if..else.."
   ]
  },
  {
   "cell_type": "markdown",
   "metadata": {},
   "source": [
    "### 01) WAP to check whether the given number is positive or negative."
   ]
  },
  {
   "cell_type": "code",
   "execution_count": 2,
   "metadata": {},
   "outputs": [
    {
     "name": "stdout",
     "output_type": "stream",
     "text": [
      "Enter Number one12\n",
      "Number is positive... \n"
     ]
    }
   ],
   "source": [
    "a = int(input(\"Enter Number one\"))\n",
    "if (a > 0):\n",
    "    print(\"Number is positive... \")\n",
    "else:\n",
    "    print(\"Number is negaive\")"
   ]
  },
  {
   "cell_type": "markdown",
   "metadata": {},
   "source": [
    "### 02) WAP to check whether the given number is odd or even."
   ]
  },
  {
   "cell_type": "code",
   "execution_count": 3,
   "metadata": {},
   "outputs": [
    {
     "name": "stdout",
     "output_type": "stream",
     "text": [
      "Enter Number:  2\n",
      "Number is even\n"
     ]
    }
   ],
   "source": [
    "a = int(input(\"Enter Number:  \"))\n",
    "if(a % 2 == 0):\n",
    "    print(\"Number is even\")\n",
    "else:\n",
    "    print(\"Number is odd\")"
   ]
  },
  {
   "cell_type": "markdown",
   "metadata": {},
   "source": [
    "### 03) WAP to find out largest number from given two numbers using simple if and ternary operator."
   ]
  },
  {
   "cell_type": "code",
   "execution_count": 4,
   "metadata": {},
   "outputs": [
    {
     "name": "stdout",
     "output_type": "stream",
     "text": [
      "Enter First Number:  12\n",
      "Enter Second Number:  23\n",
      "23 is greater\n"
     ]
    }
   ],
   "source": [
    "num1 = int(input(\"Enter First Number:  \"))\n",
    "num2 = int(input(\"Enter Second Number:  \"))\n",
    "if(num1 > num2):\n",
    "    print(f\"{num1} is greater...\")\n",
    "else:\n",
    "    print(f\"{num2} is greater\")"
   ]
  },
  {
   "cell_type": "markdown",
   "metadata": {},
   "source": [
    "### 04) WAP to find out largest number from given three numbers."
   ]
  },
  {
   "cell_type": "code",
   "execution_count": 6,
   "metadata": {},
   "outputs": [
    {
     "name": "stdout",
     "output_type": "stream",
     "text": [
      "Enter First Number:  12\n",
      "Enter Second Number:  23\n",
      "Enter Third Number:  34\n",
      "34 is greater\n"
     ]
    }
   ],
   "source": [
    "num1 = int(input(\"Enter First Number:  \"))\n",
    "num2 = int(input(\"Enter Second Number:  \"))\n",
    "num3 = int(input(\"Enter Third Number:  \"))\n",
    "\n",
    "if(num1 > num2 and num1 > num3):\n",
    "    print(f\"{num1} is greater...\")\n",
    "elif(num2 > num1 and num2 > num3):\n",
    "    print(f\"{num2} is greater\")\n",
    "else:\n",
    "    print(f\"{num3} is greater\")"
   ]
  },
  {
   "cell_type": "markdown",
   "metadata": {},
   "source": [
    "### 05) WAP to check whether the given year is leap year or not.\n",
    "[If a year can be divisible by 4 but not divisible by 100 then it is leap year but if it is divisible by 400 then it is leap year]"
   ]
  },
  {
   "cell_type": "code",
   "execution_count": 8,
   "metadata": {},
   "outputs": [
    {
     "name": "stdout",
     "output_type": "stream",
     "text": [
      "enter Year: 2004\n",
      "Year is leap year.. \n"
     ]
    }
   ],
   "source": [
    "year = int(input(\"enter Year: \"))\n",
    "if(year % 4 == 0):\n",
    "    print(\"Year is leap year.. \")\n",
    "else:\n",
    "    print(\"Year is not year.. \")"
   ]
  },
  {
   "cell_type": "markdown",
   "metadata": {},
   "source": [
    "### 06) WAP in python to display the name of the day according to the number given by the user."
   ]
  },
  {
   "cell_type": "code",
   "execution_count": 20,
   "metadata": {},
   "outputs": [
    {
     "name": "stdout",
     "output_type": "stream",
     "text": [
      "Enter Day4\n",
      "Wednesday\n"
     ]
    }
   ],
   "source": [
    "day = int(input(\"Enter Day\"))\n",
    "if(day<=0 and day > 7):\n",
    "    print(\"INvalid day\")\n",
    "else:\n",
    "    match(day):\n",
    "        case 1:print(\"Sunday\")\n",
    "        case 2:print(\"monday\")\n",
    "        case 3:print(\"Tuesday\")\n",
    "        case 4:print(\"Wednesday\")\n",
    "        case 5:print(\"Turshday\")\n",
    "        case 6:print(\"friday\")\n",
    "        case 7:print(\"saturday\")\n",
    "        case _:print(\"Not valid\")"
   ]
  },
  {
   "cell_type": "markdown",
   "metadata": {},
   "source": [
    "### 07) WAP to implement simple calculator which performs (add,sub,mul,div) of two no. based on user input."
   ]
  },
  {
   "cell_type": "code",
   "execution_count": 9,
   "metadata": {},
   "outputs": [
    {
     "name": "stdout",
     "output_type": "stream",
     "text": [
      "Enter Number 1: 12\n",
      "Enter Number 2: 23\n",
      "Enter Sign+\n",
      "Here is your result: 35\n"
     ]
    }
   ],
   "source": [
    "num1 = int(input(\"Enter Number 1: \"))\n",
    "num2 = int(input(\"Enter Number 2: \"))\n",
    "sign = input(\"Enter Sign\")\n",
    "match(sign):\n",
    "    case '+':\n",
    "        print(f\"Here is your result: {num1 + num2}\")\n",
    "    case '-':\n",
    "        print(f\"Here is your result: {num1 - num2}\")\n",
    "    case '*':\n",
    "        print(f\"Here is your result: {num1 * num2}\")\n",
    "    case '/':\n",
    "        print(f\"Here is your result: {num1 / num2}\")\n",
    "    case _:\n",
    "        print(\"Not a valid value: \")\n",
    "        "
   ]
  },
  {
   "cell_type": "markdown",
   "metadata": {},
   "source": [
    "### 08) WAP to read marks of five subjects. Calculate percentage and print class accordingly. \n",
    "Fail below 35 </br>\n",
    "Pass Class between 35 to 45 </br>\n",
    "Second Class</br>\n",
    "between 45 to 60</br>\n",
    "First Class between 60 to 70</br> \n",
    "Distinction if more than 70"
   ]
  },
  {
   "cell_type": "code",
   "execution_count": 12,
   "metadata": {},
   "outputs": [
    {
     "name": "stdout",
     "output_type": "stream",
     "text": [
      "Enter Maths Marks: 50\n",
      "Enter SE Marks: 50\n",
      "Enter Flutter Marks: 50\n",
      "Enter Python Marks: 50\n",
      "Enter pc Marks: 50\n",
      "SECOND Class\n"
     ]
    }
   ],
   "source": [
    "maths = float(input(\"Enter Maths Marks: \"))\n",
    "se = float(input(\"Enter SE Marks: \"))\n",
    "flutter = float(input(\"Enter Flutter Marks: \"))\n",
    "py = float(input(\"Enter Python Marks: \"))\n",
    "pc = float(input(\"Enter pc Marks: \"))\n",
    "\n",
    "avg  = (maths + se + flutter + py + pc) / 5\n",
    "\n",
    "if(avg < 35):\n",
    "    print(\"FAIL..........................\")\n",
    "elif(avg > 35 and avg < 45):\n",
    "    print(\"PASS CLASS\")\n",
    "elif(avg > 45 and avg < 60):\n",
    "    print(\"SECOND Class\")\n",
    "elif(avg > 60 and avg < 70):\n",
    "    print(\"First CLASS\")\n",
    "elif(avg > 70):\n",
    "    print(\"DISTINCTION\")\n"
   ]
  },
  {
   "cell_type": "markdown",
   "metadata": {},
   "source": [
    "### 09) Three sides of a triangle are entered through the keyboard, WAP to check whether the triangle is isosceles, equilateral, scalene or right-angled triangle."
   ]
  },
  {
   "cell_type": "code",
   "execution_count": 14,
   "metadata": {},
   "outputs": [
    {
     "name": "stdout",
     "output_type": "stream",
     "text": [
      "Enter Side One: 3\n",
      "Enter Second Side: 4\n",
      "Enter Theird Side 5\n",
      "right angle\n"
     ]
    }
   ],
   "source": [
    "import math\n",
    "side1 = float(input(\"Enter Side One: \"))\n",
    "side2 = float(input(\"Enter Second Side: \"))\n",
    "side3 = float(input(\"Enter Theird Side \"))\n",
    "if(side1 == side2 or side2 ==  side3 or side3 == side1):\n",
    "    print(\"isosceles\")\n",
    "elif(side1 == side2 == side3):\n",
    "    print(\"equilateral\")\n",
    "else:\n",
    "    if(side1 > side2 and side1 > side3):\n",
    "        if((side1 ** side1) > ((side2 ** side2) + (side3 ** side3))):\n",
    "            print(\"Right Angle\")\n",
    "    elif(side2 > side3 and side2 > side1):\n",
    "        if((side2 ** side2) > ((side1 ** side1) + (side3 ** side3))):\n",
    "            print(\"Right Angle\")\n",
    "    else:\n",
    "        if((side3 ** side3) > ((side1 ** side1) + (side2 ** side2))):\n",
    "            print(\"right angle\")"
   ]
  },
  {
   "cell_type": "code",
   "execution_count": null,
   "metadata": {},
   "outputs": [],
   "source": []
  },
  {
   "cell_type": "markdown",
   "metadata": {},
   "source": [
    "### 10) WAP to find the second largest number among three user input numbers."
   ]
  },
  {
   "cell_type": "code",
   "execution_count": 15,
   "metadata": {},
   "outputs": [
    {
     "name": "stdout",
     "output_type": "stream",
     "text": [
      "Enter First Number.. 12\n",
      "Enter Second Number.. 23\n",
      "Enter Third Number.. 43\n",
      "23 is second large\n"
     ]
    }
   ],
   "source": [
    "num1 = int(input(\"Enter First Number.. \"))\n",
    "num2 = int(input(\"Enter Second Number.. \"))\n",
    "num3 = int(input(\"Enter Third Number.. \"))\n",
    "if(num1 > num2):\n",
    "    if(num2 > num3):\n",
    "        print(f\"{num2} is second largest\")\n",
    "    else:\n",
    "        print(f\"{num1} is Second Largest\")\n",
    "else:\n",
    "    if(num2 > num3):\n",
    "        print(f\"{num3} is second large\")\n",
    "    else:\n",
    "        print(f\"{num2} is second large\")"
   ]
  },
  {
   "cell_type": "markdown",
   "metadata": {},
   "source": [
    "### 11) WAP to calculate electricity bill based on following criteria. Which takes the unit from the user.\n",
    "a. First 1 to 50 units – Rs. 2.60/unit</br>\n",
    "b. Next 50 to 100 units – Rs. 3.25/unit</br>\n",
    "c. Next 100 to 200 units – Rs. 5.26/unit</br>\n",
    "d. above 200 units – Rs. 8.45/unit"
   ]
  },
  {
   "cell_type": "code",
   "execution_count": 19,
   "metadata": {},
   "outputs": [
    {
     "name": "stdout",
     "output_type": "stream",
     "text": [
      "Enter Unit60\n",
      "195.0 is bill\n"
     ]
    }
   ],
   "source": [
    "unit = int(input(\"Enter Unit\"))\n",
    "\n",
    "if(unit > 1 and unit < 50):\n",
    "    print(f\"{unit * 2.60} is bill\")\n",
    "elif(unit > 50 and unit < 100):\n",
    "    print(f\"{unit * 3.25} is bill\")\n",
    "elif(unit > 100 and unit < 200):\n",
    "    print(f\"{unit * 5.26} is bill\")\n",
    "elif(unit > 200):\n",
    "    print(f\"{unit * 8.45} is bill\")"
   ]
  },
  {
   "cell_type": "code",
   "execution_count": null,
   "metadata": {},
   "outputs": [],
   "source": []
  }
 ],
 "metadata": {
  "kernelspec": {
   "display_name": "Python 3 (ipykernel)",
   "language": "python",
   "name": "python3"
  },
  "language_info": {
   "codemirror_mode": {
    "name": "ipython",
    "version": 3
   },
   "file_extension": ".py",
   "mimetype": "text/x-python",
   "name": "python",
   "nbconvert_exporter": "python",
   "pygments_lexer": "ipython3",
   "version": "3.10.9"
  }
 },
 "nbformat": 4,
 "nbformat_minor": 4
}
